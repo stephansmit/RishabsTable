{
 "cells": [
  {
   "cell_type": "code",
   "execution_count": 55,
   "metadata": {},
   "outputs": [],
   "source": [
    "import CoolProp.CoolProp as CP\n",
    "import numpy as np\n",
    "import pandas as pd\n",
    "import plotly.plotly as py\n",
    "import plotly.graph_objs as go\n",
    "import plotly\n",
    "\n",
    "import matplotlib.pyplot as plt\n"
   ]
  },
  {
   "cell_type": "code",
   "execution_count": 43,
   "metadata": {},
   "outputs": [],
   "source": [
    "\n",
    "\n",
    "Tmin=-20\n",
    "Tmax=60\n",
    "Pmax=700e5\n",
    "Pmin=20e5\n",
    "Np = 10\n",
    "Nt = 10\n"
   ]
  },
  {
   "cell_type": "code",
   "execution_count": 44,
   "metadata": {},
   "outputs": [],
   "source": [
    "#discretization\n",
    "P_vec = np.geomspace(Pmin, Pmax, Np)\n",
    "T_vec = np.linspace(Tmin, Tmax, Nt)\n",
    "Pv = []\n",
    "Tv = []\n",
    "for P in P_vec:\n",
    "    tmpT=[]\n",
    "    tmpP=[]\n",
    "    for T in T_vec:\n",
    "        tmpT.append(T)\n",
    "        tmpP.append(P)\n",
    "    Tv.append(tmpT)\n",
    "    Pv.append(tmpP)\n",
    "T=np.array(Tv)\n",
    "P=np.array(Pv)\n",
    "\n",
    "\n",
    "#calculation of values\n",
    "df = pd.DataFrame(data= [T.flatten(), P.flatten()]).transpose()\n",
    "df.columns=['T','P']\n",
    "df['R']= df.apply(lambda x: CP.PropsSI('D','T',x['T']+273.15, 'P',x['P'], 'hydrogen'),axis=1)\n",
    "\n",
    "#writing of the table\n",
    "df.to_csv('table.csv',sep=',')"
   ]
  },
  {
   "cell_type": "code",
   "execution_count": 53,
   "metadata": {},
   "outputs": [
    {
     "data": {
      "text/plain": [
       "'file:///home/azureuser/Documents/RishabsTable/temp-plot.html'"
      ]
     },
     "execution_count": 53,
     "metadata": {},
     "output_type": "execute_result"
    }
   ],
   "source": [
    "data= [go.Contour(x=T_vec,y=P_vec, z=df.R)]\n",
    "plotly.offline.plot(data)"
   ]
  },
  {
   "cell_type": "code",
   "execution_count": 63,
   "metadata": {},
   "outputs": [
    {
     "data": {
      "image/png": "[encoded data removed]",
      "text/plain": [
       "<matplotlib.figure.Figure at 0x7f1d429fb950>"
      ]
     },
     "metadata": {},
     "output_type": "display_data"
    }
   ],
   "source": [
    "hdf = df.groupby(['T','P']).mean()\n",
    "hdfreset = hdf.reset_index()\n",
    "hdfreset.columns = ['a', 'b', 'occurrence']\n",
    "hdfpivot=hdfreset.pivot('a', 'b')\n",
    "X=hdfpivot.columns.levels[1].values\n",
    "Y=hdfpivot.index.values\n",
    "Z=hdfpivot.values\n",
    "Xi,Yi = np.meshgrid(X, Y)\n",
    "CS = plt.contourf(Yi, Xi, Z, alpha=0.7, cmap=plt.cm.jet);\n",
    "plt.title('Density as a function of P and T')\n",
    "plt.xlabel('Temperature [Celcius]')\n",
    "plt.ylabel('Pressure [Pa]')\n",
    "cbar = plt.colorbar(CS)\n",
    "cbar.ax.set_ylabel('Density [kg/m^3]')\n",
    "plt.savefig(\"table.png\")"
   ]
  },
  {
   "cell_type": "code",
   "execution_count": null,
   "metadata": {},
   "outputs": [],
   "source": []
  }
 ],
 "metadata": {
  "kernelspec": {
   "display_name": "Python 2",
   "language": "python",
   "name": "python2"
  },
  "language_info": {
   "codemirror_mode": {
    "name": "ipython",
    "version": 2
   },
   "file_extension": ".py",
   "mimetype": "text/x-python",
   "name": "python",
   "nbconvert_exporter": "python",
   "pygments_lexer": "ipython2",
   "version": "2.7.12"
  }
 },
 "nbformat": 4,
 "nbformat_minor": 2
}
